{
 "cells": [
  {
   "cell_type": "code",
   "execution_count": 1,
   "metadata": {
    "collapsed": false
   },
   "outputs": [],
   "source": [
    "%load_ext autoreload\n",
    "%autoreload 2"
   ]
  },
  {
   "cell_type": "code",
   "execution_count": 2,
   "metadata": {
    "collapsed": false
   },
   "outputs": [],
   "source": [
    "from cleaner import cleaner\n",
    "\n",
    "import pyprind  # progress bar\n",
    "\n",
    "import pandas as pd\n",
    "import numpy as np\n",
    "from numpy.random import choice"
   ]
  },
  {
   "cell_type": "markdown",
   "metadata": {},
   "source": [
    "## Data Preparation"
   ]
  },
  {
   "cell_type": "code",
   "execution_count": 3,
   "metadata": {
    "collapsed": false
   },
   "outputs": [],
   "source": [
    "## uncomment for train-test split\n",
    "# df = pd.read_csv('../data/train.csv', index_col='shot_id')\n",
    "\n",
    "# inds = choice(df.index, int(len(df)*0.2))\n",
    "# df_train = df.drop(inds)\n",
    "# df_test = df.loc[inds,:].copy()  # without copy pandas throws a lot of `SettingWithCopy` warning\n",
    "\n",
    "\n",
    "## uncomment for submission\n",
    "df_train = pd.read_csv('../data/train.csv', index_col='shot_id')\n",
    "df_test  = pd.read_csv('../data/submission.csv', index_col='shot_id')"
   ]
  },
  {
   "cell_type": "code",
   "execution_count": 4,
   "metadata": {
    "collapsed": false
   },
   "outputs": [],
   "source": [
    "df_train = cleaner(df_train)\n",
    "df_test  = cleaner(df_test)"
   ]
  },
  {
   "cell_type": "markdown",
   "metadata": {},
   "source": [
    "### Verify"
   ]
  },
  {
   "cell_type": "code",
   "execution_count": 5,
   "metadata": {
    "collapsed": false
   },
   "outputs": [
    {
     "name": "stdout",
     "output_type": "stream",
     "text": [
      "(25697, 17)\n",
      "(5000, 17)\n"
     ]
    }
   ],
   "source": [
    "print df_train.shape\n",
    "print df_test.shape"
   ]
  },
  {
   "cell_type": "code",
   "execution_count": 6,
   "metadata": {
    "collapsed": false
   },
   "outputs": [
    {
     "data": {
      "text/html": [
       "<div>\n",
       "<table border=\"1\" class=\"dataframe\">\n",
       "  <thead>\n",
       "    <tr style=\"text-align: right;\">\n",
       "      <th></th>\n",
       "      <th>playoffs</th>\n",
       "      <th>shot_made_flag</th>\n",
       "      <th>game_date</th>\n",
       "      <th>3ptr</th>\n",
       "      <th>last_3_years</th>\n",
       "      <th>backcourt</th>\n",
       "      <th>C+RA</th>\n",
       "      <th>better_when_homefield</th>\n",
       "      <th>combined_shot_type_Dunk</th>\n",
       "      <th>combined_shot_type_Hook Shot</th>\n",
       "      <th>combined_shot_type_Jump Shot</th>\n",
       "      <th>combined_shot_type_Layup</th>\n",
       "      <th>combined_shot_type_Tip Shot</th>\n",
       "      <th>final_4s</th>\n",
       "      <th>final_s</th>\n",
       "      <th>4th_period</th>\n",
       "      <th>extra_time</th>\n",
       "    </tr>\n",
       "    <tr>\n",
       "      <th>shot_id</th>\n",
       "      <th></th>\n",
       "      <th></th>\n",
       "      <th></th>\n",
       "      <th></th>\n",
       "      <th></th>\n",
       "      <th></th>\n",
       "      <th></th>\n",
       "      <th></th>\n",
       "      <th></th>\n",
       "      <th></th>\n",
       "      <th></th>\n",
       "      <th></th>\n",
       "      <th></th>\n",
       "      <th></th>\n",
       "      <th></th>\n",
       "      <th></th>\n",
       "      <th></th>\n",
       "    </tr>\n",
       "  </thead>\n",
       "  <tbody>\n",
       "    <tr>\n",
       "      <th>22902</th>\n",
       "      <td>0</td>\n",
       "      <td>0.0</td>\n",
       "      <td>1996-11-03</td>\n",
       "      <td>0</td>\n",
       "      <td>0</td>\n",
       "      <td>0</td>\n",
       "      <td>0</td>\n",
       "      <td>0</td>\n",
       "      <td>0.0</td>\n",
       "      <td>0.0</td>\n",
       "      <td>1.0</td>\n",
       "      <td>0.0</td>\n",
       "      <td>0.0</td>\n",
       "      <td>0</td>\n",
       "      <td>0</td>\n",
       "      <td>0</td>\n",
       "      <td>0</td>\n",
       "    </tr>\n",
       "    <tr>\n",
       "      <th>22903</th>\n",
       "      <td>0</td>\n",
       "      <td>0.0</td>\n",
       "      <td>1996-11-05</td>\n",
       "      <td>0</td>\n",
       "      <td>0</td>\n",
       "      <td>0</td>\n",
       "      <td>0</td>\n",
       "      <td>0</td>\n",
       "      <td>0.0</td>\n",
       "      <td>0.0</td>\n",
       "      <td>1.0</td>\n",
       "      <td>0.0</td>\n",
       "      <td>0.0</td>\n",
       "      <td>0</td>\n",
       "      <td>0</td>\n",
       "      <td>0</td>\n",
       "      <td>0</td>\n",
       "    </tr>\n",
       "    <tr>\n",
       "      <th>22904</th>\n",
       "      <td>0</td>\n",
       "      <td>1.0</td>\n",
       "      <td>1996-11-06</td>\n",
       "      <td>1</td>\n",
       "      <td>0</td>\n",
       "      <td>0</td>\n",
       "      <td>0</td>\n",
       "      <td>1</td>\n",
       "      <td>0.0</td>\n",
       "      <td>0.0</td>\n",
       "      <td>1.0</td>\n",
       "      <td>0.0</td>\n",
       "      <td>0.0</td>\n",
       "      <td>0</td>\n",
       "      <td>0</td>\n",
       "      <td>0</td>\n",
       "      <td>0</td>\n",
       "    </tr>\n",
       "    <tr>\n",
       "      <th>22905</th>\n",
       "      <td>0</td>\n",
       "      <td>0.0</td>\n",
       "      <td>1996-11-06</td>\n",
       "      <td>1</td>\n",
       "      <td>0</td>\n",
       "      <td>0</td>\n",
       "      <td>1</td>\n",
       "      <td>1</td>\n",
       "      <td>0.0</td>\n",
       "      <td>0.0</td>\n",
       "      <td>1.0</td>\n",
       "      <td>0.0</td>\n",
       "      <td>0.0</td>\n",
       "      <td>0</td>\n",
       "      <td>0</td>\n",
       "      <td>0</td>\n",
       "      <td>0</td>\n",
       "    </tr>\n",
       "    <tr>\n",
       "      <th>22906</th>\n",
       "      <td>0</td>\n",
       "      <td>1.0</td>\n",
       "      <td>1996-11-06</td>\n",
       "      <td>0</td>\n",
       "      <td>0</td>\n",
       "      <td>0</td>\n",
       "      <td>1</td>\n",
       "      <td>1</td>\n",
       "      <td>0.0</td>\n",
       "      <td>0.0</td>\n",
       "      <td>1.0</td>\n",
       "      <td>0.0</td>\n",
       "      <td>0.0</td>\n",
       "      <td>0</td>\n",
       "      <td>0</td>\n",
       "      <td>0</td>\n",
       "      <td>0</td>\n",
       "    </tr>\n",
       "  </tbody>\n",
       "</table>\n",
       "</div>"
      ],
      "text/plain": [
       "         playoffs  shot_made_flag  game_date  3ptr  last_3_years  backcourt  \\\n",
       "shot_id                                                                       \n",
       "22902           0             0.0 1996-11-03     0             0          0   \n",
       "22903           0             0.0 1996-11-05     0             0          0   \n",
       "22904           0             1.0 1996-11-06     1             0          0   \n",
       "22905           0             0.0 1996-11-06     1             0          0   \n",
       "22906           0             1.0 1996-11-06     0             0          0   \n",
       "\n",
       "         C+RA  better_when_homefield  combined_shot_type_Dunk  \\\n",
       "shot_id                                                         \n",
       "22902       0                      0                      0.0   \n",
       "22903       0                      0                      0.0   \n",
       "22904       0                      1                      0.0   \n",
       "22905       1                      1                      0.0   \n",
       "22906       1                      1                      0.0   \n",
       "\n",
       "         combined_shot_type_Hook Shot  combined_shot_type_Jump Shot  \\\n",
       "shot_id                                                               \n",
       "22902                             0.0                           1.0   \n",
       "22903                             0.0                           1.0   \n",
       "22904                             0.0                           1.0   \n",
       "22905                             0.0                           1.0   \n",
       "22906                             0.0                           1.0   \n",
       "\n",
       "         combined_shot_type_Layup  combined_shot_type_Tip Shot  final_4s  \\\n",
       "shot_id                                                                    \n",
       "22902                         0.0                          0.0         0   \n",
       "22903                         0.0                          0.0         0   \n",
       "22904                         0.0                          0.0         0   \n",
       "22905                         0.0                          0.0         0   \n",
       "22906                         0.0                          0.0         0   \n",
       "\n",
       "         final_s  4th_period  extra_time  \n",
       "shot_id                                   \n",
       "22902          0           0           0  \n",
       "22903          0           0           0  \n",
       "22904          0           0           0  \n",
       "22905          0           0           0  \n",
       "22906          0           0           0  "
      ]
     },
     "execution_count": 6,
     "metadata": {},
     "output_type": "execute_result"
    }
   ],
   "source": [
    "df_train.head()"
   ]
  },
  {
   "cell_type": "markdown",
   "metadata": {},
   "source": [
    "## Models"
   ]
  },
  {
   "cell_type": "markdown",
   "metadata": {},
   "source": [
    "### Baseline Model (Constant Probability)"
   ]
  },
  {
   "cell_type": "code",
   "execution_count": null,
   "metadata": {
    "collapsed": false
   },
   "outputs": [],
   "source": [
    "i,j = 0,0                     # for train\n",
    "k, y_pred, p_pred = 0, [], [] # for test\n",
    "\n",
    "bar = pyprind.ProgBar(len(df_test))\n",
    "\n",
    "n = 10   # for debugging\n",
    "\n",
    "while k < len(df_test):\n",
    "    isTrain = (df_train['game_date'].iat[j] < df_train['game_date'].iat[k]) or \\\n",
    "              (df_train['game_date'].iat[j] == df_train['game_date'].iat[k] and \\\n",
    "               df_train.index[k] < df_test.index[k])\n",
    "    \n",
    "    if isTrain:\n",
    "        j += 1\n",
    "\n",
    "    else:\n",
    "        if j == 0:\n",
    "            p_pred += 0.5,\n",
    "        else:\n",
    "            p_pred += df_train[:j+1]['shot_made_flag'].sum() / float(j),\n",
    "            \n",
    "        y_pred += int(p_pred[-1] >= 0.5),\n",
    "        \n",
    "        k += 1\n",
    "        bar.update()\n",
    "        \n",
    "## for debugging:\n",
    "#     n -= 1\n",
    "#     print n, p_pred, y_pred\n",
    "#     if n < 0:\n",
    "#         break"
   ]
  },
  {
   "cell_type": "markdown",
   "metadata": {},
   "source": [
    "| Model | Accuracy | Log Loss | Time Elapsed |\n",
    "| -- | -- | -- | -- |\n",
    "| Constant Probability | 0.554193422845 | 0.687805243243 | 00:00:03 |"
   ]
  },
  {
   "cell_type": "markdown",
   "metadata": {},
   "source": [
    "### Bayesian Update"
   ]
  },
  {
   "cell_type": "code",
   "execution_count": null,
   "metadata": {
    "collapsed": true
   },
   "outputs": [],
   "source": [
    "import scipy.stats as scs"
   ]
  },
  {
   "cell_type": "code",
   "execution_count": null,
   "metadata": {
    "collapsed": false
   },
   "outputs": [],
   "source": [
    "i,j = 0,0                     # for train\n",
    "k, y_pred, p_pred = 0, [], [] # for test\n",
    "\n",
    "bar = pyprind.ProgBar(len(df_test))\n",
    "\n",
    "alpha = 1\n",
    "beta  = 1\n",
    "prior = scs.beta(a=alpha, b=beta)   # uniform distribution\n",
    "\n",
    "n = 10  # for debugging\n",
    "\n",
    "while k < len(df_test):\n",
    "    isTrain = (df_train['game_date'].iat[j] < df_train['game_date'].iat[k]) or \\\n",
    "              (df_train['game_date'].iat[j] == df_train['game_date'].iat[k] and \\\n",
    "               df_train.index[k] < df_test.index[k])\n",
    "    \n",
    "    if isTrain:\n",
    "        \n",
    "        if df_train['shot_made_flag'].iat[j] == 1:\n",
    "            alpha += 1\n",
    "        else:\n",
    "            beta += 1\n",
    "        \n",
    "        j += 1\n",
    "\n",
    "    else:\n",
    "        \n",
    "        y_pred += int(prior.rvs() >= 0.5),\n",
    "        \n",
    "        if j == 0:\n",
    "            p_pred += 0.5,\n",
    "        else:\n",
    "            p_pred += (alpha-1) / float(alpha + beta - 2),\n",
    "        \n",
    "        k += 1\n",
    "        bar.update()\n",
    "\n",
    "        \n",
    "    # update prior        \n",
    "    prior = scs.beta(a=alpha, b=beta)       # posterior becomes the new prior \n",
    "        \n",
    "## for debugging:        \n",
    "#     n -= 1\n",
    "#     print n, p_pred, y_pred\n",
    "#     if n < 0:\n",
    "#         break"
   ]
  },
  {
   "cell_type": "markdown",
   "metadata": {},
   "source": [
    "| Model | Accuracy | Log Loss | Time Elapsed |\n",
    "| -- | -- | -- | -- |\n",
    "| Bayesian | 0.549717843939 | 0.687771751616 | 00:00:12 |"
   ]
  },
  {
   "cell_type": "markdown",
   "metadata": {},
   "source": [
    "### Online Models"
   ]
  },
  {
   "cell_type": "code",
   "execution_count": 7,
   "metadata": {
    "collapsed": true
   },
   "outputs": [],
   "source": [
    "from sklearn.linear_model import SGDClassifier\n",
    "from sklearn.ensemble import RandomForestClassifier\n",
    "from sklearn.naive_bayes import MultinomialNB\n",
    "from sklearn.naive_bayes import GaussianNB"
   ]
  },
  {
   "cell_type": "code",
   "execution_count": 8,
   "metadata": {
    "collapsed": false
   },
   "outputs": [
    {
     "name": "stderr",
     "output_type": "stream",
     "text": [
      "0%                          100%\n",
      "[##############################] | ETA: 00:00:00\n",
      "Total time elapsed: 00:00:25\n"
     ]
    }
   ],
   "source": [
    "i,j = 0,0                     # for train\n",
    "k, y_pred, p_pred = 0, [], [] # for test\n",
    "\n",
    "bar = pyprind.ProgBar(len(df_test))\n",
    "\n",
    "## online learning methods\n",
    "# model = SGDClassifier(loss='log', warm_start=True)  # only logistic regression can compute probability\n",
    "# model = RandomForestClassifier(n_estimators=50, n_jobs=-1, warm_start=True)\n",
    "model = MultinomialNB()\n",
    "# model = GaussianNB()\n",
    "\n",
    "n = 10   # for debugging\n",
    "\n",
    "while k < len(df_test):\n",
    "    isTrain = (df_train['game_date'].iat[j] < df_train['game_date'].iat[k]) or \\\n",
    "              (df_train['game_date'].iat[j] == df_train['game_date'].iat[k] and \\\n",
    "               df_train.index[k] < df_test.index[k])\n",
    "    \n",
    "    if isTrain:\n",
    "        j += 1\n",
    "\n",
    "    else:\n",
    "        if j == 0:\n",
    "            y_pred += choice([0,1]),  # randomly guess\n",
    "            p_pred += 0.5,\n",
    "        \n",
    "        else:\n",
    "            # train\n",
    "            row = df_train[i:j+1]\n",
    "            \n",
    "            if model.__class__.__name__ in ['MultinomialNB', 'SGDClassifier']:\n",
    "                model.partial_fit(row.drop(['shot_made_flag', 'game_date'], axis=1), \n",
    "                                  row['shot_made_flag'],\n",
    "                                  classes=(0,1))\n",
    "            else:\n",
    "                model.fit(row.drop(['shot_made_flag', 'game_date'], axis=1), \n",
    "                          row['shot_made_flag'])\n",
    "            \n",
    "            # predict\n",
    "            row = df_test[k:k+1]  # must use list slicing for pythonic indexing\n",
    "            y_pred += model.predict(row.drop(['shot_made_flag', 'game_date'], axis=1)),\n",
    "            p_pred += model.predict_proba(row.drop(['shot_made_flag', 'game_date'], axis=1))[0][1],\n",
    "            \n",
    "            \n",
    "            # prep for next round: need to increase no. of trees for warm start\n",
    "            if model.__class__.__name__ in ['RandomForestClassifier']:\n",
    "                model.n_estimators += 10  \n",
    "            \n",
    "            \n",
    "        k += 1\n",
    "        bar.update()\n",
    "\n",
    "## for debugging:\n",
    "#     n -= 1\n",
    "#     print n, p_pred, y_pred\n",
    "#     if n < 0:\n",
    "#         break"
   ]
  },
  {
   "cell_type": "markdown",
   "metadata": {},
   "source": [
    "| Model | Accuracy | Log Loss | Time Elapsed |\n",
    "| -- | -- | -- | -- |\n",
    "| SGD (logistic) | 0.564506713368 | 1.05732119307 | 00:00:23 |\n",
    "| Random Forest |  |  | takes forever |\n",
    "| Naive Bayes (multinomial) | 0.604397742752 | 0.66269579501 | 00:00:29 |\n",
    "| Naive Bayes (gaussian) | 0.594084452228 | 2.23953381407 | 00:00:27 | \n",
    "\n",
    "n.b.:\n",
    "* SGD must use `partial_fit`, otherwise `warm_start` is ignored!\n",
    "* Random forest must increase `n_estimators`, otherwise no new tree is created with `warm_start`!"
   ]
  },
  {
   "cell_type": "markdown",
   "metadata": {},
   "source": [
    "### Cold Start Everytime"
   ]
  },
  {
   "cell_type": "code",
   "execution_count": null,
   "metadata": {
    "collapsed": false
   },
   "outputs": [],
   "source": [
    "i,j = 0,0                     # for train\n",
    "k, y_pred, p_pred = 0, [], [] # for test\n",
    "\n",
    "bar = pyprind.ProgBar(len(df_test))\n",
    "\n",
    "## new model every time\n",
    "model = RandomForestClassifier(n_estimators=50, n_jobs=-1)\n",
    "movingWindow = False\n",
    "\n",
    "n = 10   # for debugging\n",
    "\n",
    "while k < len(df_test):\n",
    "    isTrain = (df_train['game_date'].iat[j] < df_train['game_date'].iat[k]) or \\\n",
    "              (df_train['game_date'].iat[j] == df_train['game_date'].iat[k] and \\\n",
    "               df_train.index[k] < df_test.index[k])\n",
    "    \n",
    "    if isTrain:\n",
    "        j += 1\n",
    "\n",
    "    else:\n",
    "        if j == 0:\n",
    "            y_pred += choice([0,1]),  # randomly guess\n",
    "            p_pred += 0.5,\n",
    "        \n",
    "        else:\n",
    "            # train\n",
    "            row = df_train[i:j+1]\n",
    "            model.fit(row.drop(['shot_made_flag', 'game_date'], axis=1), \n",
    "                      row['shot_made_flag'])\n",
    "            \n",
    "            \n",
    "            if movingWindow:\n",
    "                i = j-100 if j-100 > 0 else 0  # train on only the last 100 shots\n",
    "                \n",
    "                \n",
    "                \n",
    "            # predict\n",
    "            row = df_test[k:k+1]  # must use list slicing for pythonic indexing\n",
    "            y_pred += model.predict(row.drop(['shot_made_flag', 'game_date'], axis=1)),\n",
    "            p_pred += model.predict_proba(row.drop(['shot_made_flag', 'game_date'], axis=1))[0][1],\n",
    "            \n",
    "        k += 1\n",
    "        bar.update()\n",
    "\n",
    "## for debugging:        \n",
    "#     n -= 1\n",
    "#     print n, y_pred, p_pred\n",
    "#     if n < 0:\n",
    "#         break"
   ]
  },
  {
   "cell_type": "markdown",
   "metadata": {},
   "source": [
    "| Model | Accuracy | Log Loss | Time Elapsed |\n",
    "| -- | -- | -- | -- |\n",
    "| Random Forest | 0.603424790815 | 0.68181330833 | 00:49:49 |\n",
    "| Random Forest (moving window) | 0.595251994551 | 0.768489946031 | 00:49:17 |"
   ]
  },
  {
   "cell_type": "code",
   "execution_count": null,
   "metadata": {
    "collapsed": false
   },
   "outputs": [],
   "source": [
    "from itertools import izip"
   ]
  },
  {
   "cell_type": "code",
   "execution_count": null,
   "metadata": {
    "collapsed": true
   },
   "outputs": [],
   "source": [
    "features = list(df_test.columns)"
   ]
  },
  {
   "cell_type": "code",
   "execution_count": null,
   "metadata": {
    "collapsed": true
   },
   "outputs": [],
   "source": [
    "features.remove('shot_made_flag')\n",
    "features.remove('game_date')"
   ]
  },
  {
   "cell_type": "code",
   "execution_count": null,
   "metadata": {
    "collapsed": true
   },
   "outputs": [],
   "source": [
    "sorted(izip(features, model.feature_importances_), key=lambda t: t[1], reverse=True)[:10]"
   ]
  },
  {
   "cell_type": "markdown",
   "metadata": {},
   "source": [
    "## Scoring Metric: [Logarithmic Loss](https://www.kaggle.com/wiki/LogarithmicLoss)"
   ]
  },
  {
   "cell_type": "code",
   "execution_count": null,
   "metadata": {
    "collapsed": true
   },
   "outputs": [],
   "source": [
    "from sklearn.metrics import accuracy_score"
   ]
  },
  {
   "cell_type": "code",
   "execution_count": null,
   "metadata": {
    "collapsed": false
   },
   "outputs": [],
   "source": [
    "import scipy as sp\n",
    "\n",
    "def logloss(act, pred):\n",
    "    epsilon = 1e-15\n",
    "    pred = sp.maximum(epsilon, pred)\n",
    "    pred = sp.minimum(1-epsilon, pred)\n",
    "    ll = sum(act*sp.log(pred) + sp.subtract(1,act)*sp.log(sp.subtract(1,pred)))\n",
    "    ll = ll * -1.0/len(act)\n",
    "    return ll"
   ]
  },
  {
   "cell_type": "code",
   "execution_count": null,
   "metadata": {
    "collapsed": false
   },
   "outputs": [],
   "source": [
    "print 'accuracy:', accuracy_score(df_test['shot_made_flag'], y_pred)\n",
    "print 'log loss:', logloss(df_test['shot_made_flag'], p_pred)"
   ]
  },
  {
   "cell_type": "markdown",
   "metadata": {},
   "source": [
    "## Prepare submission csv"
   ]
  },
  {
   "cell_type": "code",
   "execution_count": 9,
   "metadata": {
    "collapsed": true
   },
   "outputs": [],
   "source": [
    "df_submission = pd.Series(p_pred, index=df_test.index, name='shot_made_flag')"
   ]
  },
  {
   "cell_type": "code",
   "execution_count": 10,
   "metadata": {
    "collapsed": false
   },
   "outputs": [
    {
     "data": {
      "text/plain": [
       "shot_id\n",
       "1     0.375249\n",
       "8     0.425787\n",
       "17    0.000569\n",
       "20    0.508281\n",
       "33    0.381880\n",
       "Name: shot_made_flag, dtype: float64"
      ]
     },
     "execution_count": 10,
     "metadata": {},
     "output_type": "execute_result"
    }
   ],
   "source": [
    "df_submission.sort_index(inplace=True)\n",
    "df_submission.head()"
   ]
  },
  {
   "cell_type": "code",
   "execution_count": 11,
   "metadata": {
    "collapsed": true
   },
   "outputs": [],
   "source": [
    "df_submission.to_csv('../data/prediction.csv', header=True)"
   ]
  },
  {
   "cell_type": "code",
   "execution_count": null,
   "metadata": {
    "collapsed": true
   },
   "outputs": [],
   "source": []
  }
 ],
 "metadata": {
  "kernelspec": {
   "display_name": "Python 2",
   "language": "python",
   "name": "python2"
  },
  "language_info": {
   "codemirror_mode": {
    "name": "ipython",
    "version": 2
   },
   "file_extension": ".py",
   "mimetype": "text/x-python",
   "name": "python",
   "nbconvert_exporter": "python",
   "pygments_lexer": "ipython2",
   "version": "2.7.11"
  }
 },
 "nbformat": 4,
 "nbformat_minor": 0
}
